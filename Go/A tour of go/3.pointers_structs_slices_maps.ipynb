{
 "cells": [
  {
   "cell_type": "markdown",
   "metadata": {},
   "source": [
    "# Pointers, Structs, Slices, and Maps\n",
    "\n",
    "## Pointers\n",
    "- A pointer holds the memory address of a value.\n",
    "- *T is the type of the pointer variable whose value is the address of a T value.\n",
    "- The zero value of a pointer is nil.\n",
    "- The & operator generates a pointer to its operand.\n",
    "- The * operator denotes the pointer's underlying value. (dereferencing) / (indirecting)"
   ]
  },
  {
   "cell_type": "code",
   "execution_count": 9,
   "metadata": {},
   "outputs": [
    {
     "name": "stdout",
     "output_type": "stream",
     "text": [
      "0x140000d2000\n",
      "42\n",
      "21\n",
      "21\n"
     ]
    },
    {
     "data": {
      "text/plain": [
       "3 <nil>"
      ]
     },
     "execution_count": 9,
     "metadata": {},
     "output_type": "execute_result"
    }
   ],
   "source": [
    "import \"fmt\"\n",
    "\n",
    "var p *int // declare a pointer to an int\n",
    "\n",
    "i:= 42\n",
    "p = &i // point to i\n",
    "\n",
    "fmt.Println(p) // address of i\n",
    "fmt.Println(*p) // read i through the pointer (dereference)\n",
    "\n",
    "*p = 21 // set i through the pointer\n",
    "fmt.Println(i) // see the new value of i\n",
    "fmt.Println(*p) "
   ]
  },
  {
   "cell_type": "markdown",
   "metadata": {},
   "source": [
    "- Unlike C, Go has no pointer arithmetic.\n",
    "- Pointer arithmetic refers to the ability to perform arithmetic operations on pointers, which are variables that store memory addresses.\n",
    "- Reasons not to implement in go: Simplicity, Safety, Garbage collection"
   ]
  },
  {
   "cell_type": "markdown",
   "metadata": {},
   "source": [
    "## Structs\n",
    "- A struct is a collection of fields."
   ]
  },
  {
   "cell_type": "code",
   "execution_count": 1,
   "metadata": {},
   "outputs": [
    {
     "name": "stdout",
     "output_type": "stream",
     "text": [
      "{1 2}\n"
     ]
    },
    {
     "data": {
      "text/plain": [
       "6 <nil>"
      ]
     },
     "execution_count": 1,
     "metadata": {},
     "output_type": "execute_result"
    }
   ],
   "source": [
    "import \"fmt\"\n",
    "type Vertex struct {\n",
    "    X int\n",
    "    Y int\n",
    "}\n",
    "\n",
    "fmt.Println(Vertex{1,2})"
   ]
  },
  {
   "cell_type": "code",
   "execution_count": 2,
   "metadata": {},
   "outputs": [
    {
     "name": "stdout",
     "output_type": "stream",
     "text": [
      "{4 2}\n"
     ]
    },
    {
     "data": {
      "text/plain": [
       "6 <nil>"
      ]
     },
     "execution_count": 2,
     "metadata": {},
     "output_type": "execute_result"
    }
   ],
   "source": [
    "// updating struct fields\n",
    "v := Vertex{1, 2}\n",
    "v.X = 4\n",
    "fmt.Println(v)"
   ]
  },
  {
   "cell_type": "code",
   "execution_count": 3,
   "metadata": {},
   "outputs": [
    {
     "name": "stdout",
     "output_type": "stream",
     "text": [
      "&{19 2}\n",
      "{19 2}\n"
     ]
    },
    {
     "data": {
      "text/plain": [
       "7 <nil>"
      ]
     },
     "execution_count": 3,
     "metadata": {},
     "output_type": "execute_result"
    }
   ],
   "source": [
    "// pointer to struct\n",
    "p := &v\n",
    "p.X = 19\n",
    "fmt.Println(p)\n",
    "fmt.Println(v)"
   ]
  },
  {
   "cell_type": "code",
   "execution_count": 14,
   "metadata": {},
   "outputs": [
    {
     "name": "stdout",
     "output_type": "stream",
     "text": [
      "{1 2} {1 0} {0 0} &{1 2} 1\n"
     ]
    },
    {
     "data": {
      "text/plain": [
       "27 <nil>"
      ]
     },
     "execution_count": 14,
     "metadata": {},
     "output_type": "execute_result"
    }
   ],
   "source": [
    "// struct literals\n",
    "var (\n",
    "\tv1 = Vertex{1, 2}  // has type Vertex\n",
    "\tv2 = Vertex{X: 1}  // Y:0 is implicit and X value is 1\n",
    "\tv3 = Vertex{}      // X:0 and Y:0\n",
    "\tp  = &Vertex{1, 2} // has type *Vertex\n",
    ")\n",
    "fmt.Println(v1, v2, v3, p, p.X)"
   ]
  },
  {
   "cell_type": "markdown",
   "metadata": {},
   "source": [
    "## Arrays\n",
    "The type [n]T is an array of n values of type T\n",
    "- length of arrays is fixed"
   ]
  },
  {
   "cell_type": "code",
   "execution_count": 6,
   "metadata": {},
   "outputs": [
    {
     "name": "stdout",
     "output_type": "stream",
     "text": [
      "Hello World\n",
      "[Hello World]\n",
      "[2 3 5 7 11 13]\n"
     ]
    },
    {
     "data": {
      "text/plain": [
       "16 <nil>"
      ]
     },
     "execution_count": 6,
     "metadata": {},
     "output_type": "execute_result"
    }
   ],
   "source": [
    "var a [2]string // initialize an array of 2 strings\n",
    "a[0] = \"Hello\"\n",
    "a[1] = \"World\"\n",
    "fmt.Println(a[0], a[1])\n",
    "fmt.Println(a)\n",
    "\n",
    "primes := [6]int{2, 3, 5, 7, 11, 13} // declare and initialize\n",
    "fmt.Println(primes)"
   ]
  },
  {
   "cell_type": "markdown",
   "metadata": {},
   "source": [
    "## Slices\n",
    "The type []T is a slice with elements of type T.\n",
    "- length of slices is dynamic, unlike arrays\n",
    "- It has flexible views into the elements of an array.\n",
    "- More used than arrays in Go\n",
    "- A slice is formed by specifying two indices, a low and high bound, separated by a colon: `a[low : high]`\n",
    "- Ex: a[1:4] is a slice of the array a from index 1 to 3, inclusive. i.e takes the first index one but not the last one"
   ]
  },
  {
   "cell_type": "code",
   "execution_count": 8,
   "metadata": {},
   "outputs": [
    {
     "name": "stdout",
     "output_type": "stream",
     "text": [
      "[3 5 7]\n"
     ]
    },
    {
     "data": {
      "text/plain": [
       "8 <nil>"
      ]
     },
     "execution_count": 8,
     "metadata": {},
     "output_type": "execute_result"
    }
   ],
   "source": [
    "primes := [6]int{2, 3, 5, 7, 11, 13}\n",
    "var s []int = primes[1:4] // slice of primes from 1 to 4 index\n",
    "fmt.Println(s)"
   ]
  },
  {
   "cell_type": "markdown",
   "metadata": {},
   "source": [
    "Slices are like references to arrays\n",
    "- A slice does not store any data, it just describes a section of an underlying array.\n",
    "- So if we change a value in a slice, it will change the value in the underlying array.\n",
    "- Also other slices that share the same underlying array will see those changes."
   ]
  },
  {
   "cell_type": "code",
   "execution_count": 13,
   "metadata": {},
   "outputs": [
    {
     "name": "stdout",
     "output_type": "stream",
     "text": [
      "[2 3 4]\n",
      "[10 3 4] [1 10 3 4 5]\n"
     ]
    },
    {
     "data": {
      "text/plain": [
       "22 <nil>"
      ]
     },
     "execution_count": 13,
     "metadata": {},
     "output_type": "execute_result"
    }
   ],
   "source": [
    "arr := [...]int{1,2,3,4,5} // ... means compiler figures out the length of the array according to the elements\n",
    "var slice []int = arr[1:4] // slice of arr from 1 to 4 index\n",
    "fmt.Println(slice)\n",
    "slice[0] = 10\n",
    "fmt.Println(slice, arr) // slice and array both are changed"
   ]
  },
  {
   "cell_type": "markdown",
   "metadata": {},
   "source": [
    "Slice literals\n",
    "- A slice literal is like an array literal without the length.\n",
    "- Ex: []bool{true, true, false}"
   ]
  },
  {
   "cell_type": "code",
   "execution_count": 24,
   "metadata": {},
   "outputs": [
    {
     "name": "stdout",
     "output_type": "stream",
     "text": [
      "[2 3 5 7 11 13]\n"
     ]
    },
    {
     "data": {
      "text/plain": [
       "16 <nil>"
      ]
     },
     "execution_count": 24,
     "metadata": {},
     "output_type": "execute_result"
    }
   ],
   "source": [
    "q := []int{2, 3, 5, 7, 11, 13}\n",
    "// when we do literal, the underlying array is created automatically and the slice references it\n",
    "fmt.Println(q)"
   ]
  },
  {
   "cell_type": "code",
   "execution_count": 16,
   "metadata": {},
   "outputs": [
    {
     "name": "stdout",
     "output_type": "stream",
     "text": [
      "[{2 true} {3 false} {5 true} {7 true} {11 false} {13 true}]\n"
     ]
    },
    {
     "data": {
      "text/plain": [
       "60 <nil>"
      ]
     },
     "execution_count": 16,
     "metadata": {},
     "output_type": "execute_result"
    }
   ],
   "source": [
    "s := []struct {\n",
    "\ti int\n",
    "\tb bool\n",
    "}{\n",
    "\t{2, true},\n",
    "\t{3, false},\n",
    "\t{5, true},\n",
    "\t{7, true},\n",
    "\t{11, false},\n",
    "\t{13, true},\n",
    "}\n",
    "fmt.Println(s)"
   ]
  },
  {
   "cell_type": "markdown",
   "metadata": {},
   "source": [
    "Slice defaults\n",
    "- When slicing, you may omit the high or low bounds to use their defaults instead.\n",
    "- The default is zero for the low bound and the length of the slice for the high bound.\n",
    "- similar to python list slicing\n",
    "\n",
    "For array of length 10 all of the following are same:\n",
    "- a[0:10] \n",
    "- a[:10]\n",
    "- a[0:]\n",
    "- a[:]\n"
   ]
  },
  {
   "cell_type": "code",
   "execution_count": 17,
   "metadata": {},
   "outputs": [
    {
     "name": "stdout",
     "output_type": "stream",
     "text": [
      "[3 5 7]\n",
      "[3 5]\n",
      "[5]\n"
     ]
    },
    {
     "data": {
      "text/plain": [
       "4 <nil>"
      ]
     },
     "execution_count": 17,
     "metadata": {},
     "output_type": "execute_result"
    }
   ],
   "source": [
    "s := []int{2, 3, 5, 7, 11, 13}\n",
    "s = s[1:4]\n",
    "fmt.Println(s)\n",
    "s = s[:2]\n",
    "fmt.Println(s)\n",
    "s = s[1:]\n",
    "fmt.Println(s)"
   ]
  },
  {
   "cell_type": "markdown",
   "metadata": {},
   "source": [
    "Slices has length and capacity\n",
    "- The length of a slice is the number of elements it contains.\n",
    "- The capacity of a slice is the number of elements in the underlying array, counting from the first element in the slice.\n",
    "- accessing: len(s) and cap(s)"
   ]
  },
  {
   "cell_type": "code",
   "execution_count": 61,
   "metadata": {},
   "outputs": [
    {
     "name": "stdout",
     "output_type": "stream",
     "text": [
      "len=6 cap=6 [1 2 3 4 5 6]\n",
      "len=0 cap=6 []\n",
      "len=4 cap=6 [1 2 3 4]\n",
      "len=2 cap=4 [3 4]\n",
      "len=2 cap=2 [5 6]\n",
      "len=0 cap=0 []\n",
      "[1 2 3 4 5 6]\n"
     ]
    },
    {
     "data": {
      "text/plain": [
       "14 <nil>"
      ]
     },
     "execution_count": 61,
     "metadata": {},
     "output_type": "execute_result"
    }
   ],
   "source": [
    "func printSlice(s []int) {\n",
    "\tfmt.Printf(\"len=%d cap=%d %v\\n\", len(s), cap(s), s)\n",
    "}\n",
    "\n",
    "arr := [6]int{1,2,3,4,5,6}\n",
    "var s []int = arr[:]\n",
    "printSlice(s)\n",
    "\n",
    "// Slice the slice to give it zero length.\n",
    "s = s[:0]\n",
    "printSlice(s)\n",
    "// but the capacity remains the same\n",
    "\n",
    "// Extend its length.\n",
    "s = s[:4]\n",
    "printSlice(s)\n",
    "// again the capacity remains the same\n",
    "\n",
    "// Drop its first two values.\n",
    "s = s[2:]\n",
    "printSlice(s)\n",
    "// dropping initial values decrements length as well as capacity\n",
    "// so here we are dropping 2 initial values then length-2 and capacity-2\n",
    "\n",
    "// s = s[2:] // again dropping 2 initial values, length-2 and capacity-2\n",
    "// printSlice(s) , this is commented as it will make length 0 and the next line will give error as slice bounds out of range\n",
    "\n",
    "s = s[2:4] // dropping 2 initial values and then taking 2 values from the remaining (underlying array)\n",
    "printSlice(s) // so when dropped capacity-2 and length-2 but after that we are also expanding so length+2 and capacity unchanged\n",
    "\n",
    "s = s[2:]\n",
    "printSlice(s) // length = 0 and capacity = 0, as all the values are dropped\n",
    "\n",
    "fmt.Println(arr)\n",
    "\n",
    "// in every single above cases the underlying array is not affected"
   ]
  },
  {
   "cell_type": "code",
   "execution_count": 56,
   "metadata": {},
   "outputs": [
    {
     "name": "stdout",
     "output_type": "stream",
     "text": [
      "len=6 cap=6 [2 3 5 7 11 13]\n",
      "len=0 cap=6 []\n",
      "len=5 cap=6 [2 3 5 7 11]\n",
      "len=3 cap=4 [5 7 11]\n",
      "len=4 cap=4 [5 7 11 13]\n"
     ]
    }
   ],
   "source": [
    "s := []int{2, 3, 5, 7, 11, 13}\n",
    "printSlice(s)\n",
    "s = s[:0]\n",
    "printSlice(s)\n",
    "s = s[:5]\n",
    "printSlice(s)\n",
    "s = s[2:]\n",
    "printSlice(s)\n",
    "s = s[:4]\n",
    "printSlice(s)\n",
    "// slices can be expanded as long as it is within the capacity\n",
    "// here we cant expand s beyond 4 as the capacity is 4\n",
    "// s = s[:5] // slice bounds out of range\n",
    "// printSlice(s)"
   ]
  },
  {
   "attachments": {
    "image.png": {
     "image/png": "[encoded data removed]"
    }
   },
   "cell_type": "markdown",
   "metadata": {},
   "source": [
    "![image.png](attachment:image.png)"
   ]
  },
  {
   "cell_type": "code",
   "execution_count": 58,
   "metadata": {},
   "outputs": [
    {
     "name": "stdout",
     "output_type": "stream",
     "text": [
      "Array: [This is the tutorial of Go language]\n",
      "Slice: [is the tutorial of Go]\n",
      "Length of the slice: 5\n",
      "Capacity of the slice: 6"
     ]
    },
    {
     "data": {
      "text/plain": [
       "25 <nil>"
      ]
     },
     "execution_count": 58,
     "metadata": {},
     "output_type": "execute_result"
    }
   ],
   "source": [
    "// code for above\n",
    "\n",
    " // Creating an array\n",
    " arr := [7]string{\"This\", \"is\", \"the\", \"tutorial\",\n",
    " \"of\", \"Go\", \"language\"}\n",
    "\n",
    "// Display array\n",
    "fmt.Println(\"Array:\", arr)\n",
    "\n",
    "// Creating a slice\n",
    "myslice := arr[1:6] // so here 1 is the pointer to the underlying array\n",
    "\n",
    "// Display slice\n",
    "fmt.Println(\"Slice:\", myslice)\n",
    "// Display length of the slice\n",
    "fmt.Printf(\"Length of the slice: %d\", len(myslice))\n",
    "// Display the capacity of the slice\n",
    "fmt.Printf(\"\\nCapacity of the slice: %d\", cap(myslice))"
   ]
  },
  {
   "cell_type": "markdown",
   "metadata": {},
   "source": [
    "Nil slices\n",
    "- The zero value of a slice is nil."
   ]
  },
  {
   "cell_type": "code",
   "execution_count": 59,
   "metadata": {},
   "outputs": [
    {
     "name": "stdout",
     "output_type": "stream",
     "text": [
      "[] 0 0\n",
      "nil!\n"
     ]
    }
   ],
   "source": [
    "var s []int\n",
    "\tfmt.Println(s, len(s), cap(s))\n",
    "\tif s == nil {\n",
    "\t\tfmt.Println(\"nil!\")\n",
    "\t}"
   ]
  },
  {
   "cell_type": "code",
   "execution_count": 65,
   "metadata": {},
   "outputs": [
    {
     "name": "stdout",
     "output_type": "stream",
     "text": [
      "len=0 cap=0 []\n"
     ]
    }
   ],
   "source": [
    "s := []int{2, 3, 5, 7, 11, 13}\n",
    "s = s[6:]\n",
    "printSlice(s)\n",
    "if s == nil {\n",
    "\tfmt.Println(\"nil!\")\n",
    "}\n",
    "// not nil as the slice is pointing to the underlying array and it is not at its zero value i.e. nil"
   ]
  },
  {
   "cell_type": "markdown",
   "metadata": {},
   "source": [
    "make\n",
    "- Slices can be created with the built-in make function; this is how you create dynamically-sized arrays.\n",
    "- The make function allocates a zeroed array and returns a slice that refers to that array"
   ]
  },
  {
   "cell_type": "code",
   "execution_count": 68,
   "metadata": {},
   "outputs": [
    {
     "name": "stdout",
     "output_type": "stream",
     "text": [
      "a len=5 cap=5 [0 0 0 0 0]\n",
      "b len=0 cap=5 []\n",
      "c len=2 cap=5 [0 0]\n",
      "d len=3 cap=3 [0 0 0]\n"
     ]
    }
   ],
   "source": [
    "func printSlice(s string, x []int) {\n",
    "\tfmt.Printf(\"%s len=%d cap=%d %v\\n\",\n",
    "\t\ts, len(x), cap(x), x)\n",
    "}\n",
    "\n",
    "a := make([]int, 5) // len(a)=5\n",
    "\tprintSlice(\"a\", a)\n",
    "\n",
    "\tb := make([]int, 0, 5) // len(b)=0, cap(b)=5\n",
    "\tprintSlice(\"b\", b)\n",
    "\n",
    "\tc := b[:2]\n",
    "\tprintSlice(\"c\", c)\n",
    "\n",
    "\td := c[2:5] // dropping initial 2 values, i.e. moving pointer to 2 and then taking 3 values from the remaining\n",
    "\tprintSlice(\"d\", d)"
   ]
  },
  {
   "cell_type": "markdown",
   "metadata": {},
   "source": [
    "Slice of slices\n",
    "- Slices can contain any type, including other slices."
   ]
  },
  {
   "cell_type": "code",
   "execution_count": 81,
   "metadata": {},
   "outputs": [
    {
     "name": "stdout",
     "output_type": "stream",
     "text": [
      "[[1 2 3] [4 5 6]]\n",
      "first len=3 cap=3 [1 2 3]\n",
      "second len=3 cap=3 [4 5 6]\n",
      "2\n",
      "[[1 2 3] [4 10 6]]\n"
     ]
    },
    {
     "data": {
      "text/plain": [
       "19 <nil>"
      ]
     },
     "execution_count": 81,
     "metadata": {},
     "output_type": "execute_result"
    }
   ],
   "source": [
    "// 2 slices in 1 slice\n",
    "two := [][]int {[]int {1,2,3}, []int {4,5,6}}\n",
    "fmt.Println(two)\n",
    "printSlice(\"first\", two[0])\n",
    "printSlice(\"second\", two[1])\n",
    "\n",
    "fmt.Println(two[0][1]) // second element of first slice\n",
    "\n",
    "two[1][1] = 10 // changing the value of second element of second slice\n",
    "fmt.Println(two)"
   ]
  },
  {
   "cell_type": "markdown",
   "metadata": {},
   "source": [
    "Appending to a slice\n",
    "- append function can be used to append one or more values to the end of a slice. `func append(s []T, vs ...T) []T`\n",
    "- The first parameter s of append is a slice of type T, and the rest are T values to append to the slice.\n",
    "- append returns a slice containing original slice plus the provided values.\n",
    "- If the backing (underlying) array of s is too small to fit all the given values a bigger array will be allocated automatically. The returned slice will point to the newly allocated array."
   ]
  },
  {
   "cell_type": "code",
   "execution_count": 83,
   "metadata": {},
   "outputs": [
    {
     "name": "stdout",
     "output_type": "stream",
     "text": [
      "len=0 cap=0 []\n",
      "len=1 cap=1 [0]\n",
      "len=2 cap=2 [0 1]\n",
      "len=7 cap=8 [0 1 2 3 4 5 6]\n"
     ]
    }
   ],
   "source": [
    "func printSlice(s []int) {\n",
    "\tfmt.Printf(\"len=%d cap=%d %v\\n\", len(s), cap(s), s)\n",
    "}\n",
    "\n",
    "var s []int\n",
    "\tprintSlice(s)\n",
    "\n",
    "\t// append works on nil slices.\n",
    "\ts = append(s, 0)\n",
    "\tprintSlice(s) // length and capacity both increased\n",
    "\n",
    "\t// The slice grows as needed.\n",
    "\ts = append(s, 1)\n",
    "\tprintSlice(s)\n",
    "\n",
    "\t// We can add more than one element at a time.\n",
    "\ts = append(s, 2, 3,4,5,6)\n",
    "\tprintSlice(s) // here len=7 and cap=8, is because new array got allocated with capacity 8 and the old array got garbage collected\n",
    "\t// the capacity of new array is decided by the compiler, on the basis of the length of the slice"
   ]
  },
  {
   "cell_type": "markdown",
   "metadata": {},
   "source": [
    "## Range\n",
    "- A form of for loop to iterate over a slice or map.\n",
    "- It returns two values: index and copy of the element at that index."
   ]
  },
  {
   "cell_type": "code",
   "execution_count": 84,
   "metadata": {},
   "outputs": [
    {
     "name": "stdout",
     "output_type": "stream",
     "text": [
      "0 1\n",
      "1 2\n",
      "2 3\n",
      "3 4\n",
      "4 5\n"
     ]
    }
   ],
   "source": [
    "s:= []int{1,2,3,4,5}\n",
    "\n",
    "for i,v := range s {\n",
    "\tfmt.Println(i,v)\n",
    "}"
   ]
  },
  {
   "cell_type": "code",
   "execution_count": 86,
   "metadata": {},
   "outputs": [
    {
     "name": "stdout",
     "output_type": "stream",
     "text": [
      "0 1\n",
      "1 2\n",
      "2 3\n",
      "3 4\n",
      "4 5\n"
     ]
    }
   ],
   "source": [
    "// range can also be used for arrays\n",
    "arr := [5]int{1,2,3,4,5}\n",
    "\n",
    "for i,v := range arr {\n",
    "\tfmt.Println(i,v)\n",
    "}"
   ]
  },
  {
   "cell_type": "code",
   "execution_count": 87,
   "metadata": {},
   "outputs": [
    {
     "name": "stdout",
     "output_type": "stream",
     "text": [
      "1\n",
      "2\n",
      "3\n",
      "4\n",
      "5\n"
     ]
    }
   ],
   "source": [
    "// skipping index\n",
    "for _,v := range arr {\n",
    "\tfmt.Println(v)\n",
    "}"
   ]
  },
  {
   "cell_type": "code",
   "execution_count": 90,
   "metadata": {},
   "outputs": [
    {
     "name": "stdout",
     "output_type": "stream",
     "text": [
      "0\n",
      "1\n",
      "2\n",
      "3\n",
      "4\n"
     ]
    }
   ],
   "source": [
    "// skipping value\n",
    "// for i,_ := range arr { // works the same as below line\n",
    "for i := range arr {\n",
    "\tfmt.Println(i)\n",
    "}"
   ]
  },
  {
   "cell_type": "markdown",
   "metadata": {},
   "source": [
    "## Maps\n",
    "- Maps keys to values.\n",
    "- The zero value of a map is nil. A nil map has no keys, nor can keys be added.\n"
   ]
  },
  {
   "cell_type": "code",
   "execution_count": 101,
   "metadata": {},
   "outputs": [
    {
     "name": "stdout",
     "output_type": "stream",
     "text": [
      "map[]\n",
      "map[Alice:30 Bob:25 John:35]\n",
      "30 true\n",
      "30\n",
      "map[Alice:30 Bob:46 John:35]\n"
     ]
    },
    {
     "data": {
      "text/plain": [
       "29 <nil>"
      ]
     },
     "execution_count": 101,
     "metadata": {},
     "output_type": "execute_result"
    }
   ],
   "source": [
    "// initializing a map\n",
    "var m map[string]int\n",
    "fmt.Println(m)\n",
    "\n",
    "ages := map[string]int{ // map literal\n",
    "\t\"Alice\": 30,\n",
    "\t\"Bob\":   25,\n",
    "\t\"John\":  35,\n",
    "}\n",
    "\n",
    "fmt.Println(ages)\n",
    "fmt.Println(ages[\"Alice\"]) // 30 true (true means the key is present in the map)\n",
    "alice := ages[\"Alice\"]\n",
    "fmt.Println(alice) // 30\n",
    "\n",
    "ages[\"Bob\"] = 46 // updating the value\n",
    "fmt.Println(ages)"
   ]
  },
  {
   "cell_type": "code",
   "execution_count": 103,
   "metadata": {},
   "outputs": [
    {
     "name": "stdout",
     "output_type": "stream",
     "text": [
      "map[Bell Labs:{40.68433 -74.39967} Google:{37.42202 -122.08408}]\n"
     ]
    },
    {
     "data": {
      "text/plain": [
       "65 <nil>"
      ]
     },
     "execution_count": 103,
     "metadata": {},
     "output_type": "execute_result"
    }
   ],
   "source": [
    "type Vertex struct {\n",
    "\tLat, Long float64\n",
    "}\n",
    "\n",
    "var m = map[string]Vertex{\n",
    "\t// \"Bell Labs\": Vertex{ // in this map literal we can skip the type name Vertex here as it is already mentioned in the map declaration\n",
    "\t// \t40.68433, -74.39967,\n",
    "\t// },\n",
    "\t// \"Google\": Vertex{\n",
    "\t// \t37.42202, -122.08408,\n",
    "\t// },\n",
    "\t\"Bell Labs\": {40.68433, -74.39967},\n",
    "\t\"Google\":    {37.42202, -122.08408},\n",
    "}\n",
    "\n",
    "fmt.Println(m)"
   ]
  },
  {
   "cell_type": "markdown",
   "metadata": {},
   "source": [
    "The make function returns a map of the given type, initialized and ready for use."
   ]
  },
  {
   "cell_type": "code",
   "execution_count": 99,
   "metadata": {},
   "outputs": [
    {
     "name": "stdout",
     "output_type": "stream",
     "text": [
      "map[]\n"
     ]
    },
    {
     "data": {
      "text/plain": [
       "6 <nil>"
      ]
     },
     "execution_count": 99,
     "metadata": {},
     "output_type": "execute_result"
    }
   ],
   "source": [
    "newAges := make(map[string]int)\n",
    "fmt.Println(newAges)"
   ]
  },
  {
   "cell_type": "markdown",
   "metadata": {},
   "source": [
    "mutating maps\n"
   ]
  },
  {
   "cell_type": "code",
   "execution_count": 110,
   "metadata": {},
   "outputs": [
    {
     "name": "stdout",
     "output_type": "stream",
     "text": [
      "map[Answer:42 Question:10]\n",
      "map[Answer:60 Question:10]\n",
      "map[Question:10]\n",
      "0 false\n",
      "10 true\n"
     ]
    },
    {
     "data": {
      "text/plain": [
       "8 <nil>"
      ]
     },
     "execution_count": 110,
     "metadata": {},
     "output_type": "execute_result"
    }
   ],
   "source": [
    "m := make(map[string]int)\n",
    "m[\"Answer\"] = 42 // adding a key-value pair\n",
    "m[\"Question\"] = 10\n",
    "fmt.Println(m)\n",
    "\n",
    "// updating\n",
    "m[\"Answer\"] = 60\n",
    "fmt.Println(m)\n",
    "\n",
    "// deleting\n",
    "delete(m, \"Answer\")\n",
    "fmt.Println(m)\n",
    "\n",
    "// checking if the key is present\n",
    "v , ok := m[\"Answer\"]\n",
    "v1 , ok1 := m[\"Question\"]\n",
    "fmt.Println(v, ok)\n",
    "fmt.Println(v1, ok1)\n",
    "\n",
    "// If key is not in the map, then elem is the zero value for the map's element type."
   ]
  },
  {
   "cell_type": "markdown",
   "metadata": {},
   "source": [
    "## Function values\n",
    "- Functions are values too. They can be passed around just like other values.\n",
    "- Function values may be used as function arguments and return values."
   ]
  },
  {
   "cell_type": "code",
   "execution_count": 114,
   "metadata": {},
   "outputs": [
    {
     "name": "stdout",
     "output_type": "stream",
     "text": [
      "Result of addition: 15\n",
      "Result of subtraction: 5\n"
     ]
    },
    {
     "data": {
      "text/plain": [
       "25 <nil>"
      ]
     },
     "execution_count": 114,
     "metadata": {},
     "output_type": "execute_result"
    }
   ],
   "source": [
    "// Function that takes two integers and a function as arguments\n",
    "func calculate(a, b int, operation func(int, int) int) int {\n",
    "\treturn operation(a, b)\n",
    "}\n",
    "\n",
    "// Example functions that can be used with calculate\n",
    "func add(a, b int) int {\n",
    "\treturn a + b\n",
    "}\n",
    "\n",
    "func subtract(a, b int) int {\n",
    "\treturn a - b\n",
    "}\n",
    "\n",
    "// Passing the add function to calculate\n",
    "result := calculate(10, 5, add) // result stores the value of calculate function with provided arguments\n",
    "fmt.Println(\"Result of addition:\", result) \n",
    "\n",
    "// Passing the subtract function to calculate\n",
    "result = calculate(10, 5, subtract)\n",
    "fmt.Println(\"Result of subtraction:\", result)"
   ]
  },
  {
   "cell_type": "markdown",
   "metadata": {},
   "source": [
    "## Function closures\n",
    "- Go functions may be closures. A closure is a function value that references variables from outside its body. The function may access and assign to the referenced variables; in this sense the function is \"bound\" to the variables.\n",
    "- In the following example makeCounter function returns a closure. Each closure is bound to its own count variable."
   ]
  },
  {
   "cell_type": "code",
   "execution_count": 116,
   "metadata": {},
   "outputs": [
    {
     "name": "stdout",
     "output_type": "stream",
     "text": [
      "1\n",
      "2\n",
      "3\n",
      "Counter 2\n",
      "1\n",
      "2\n",
      "3\n"
     ]
    },
    {
     "data": {
      "text/plain": [
       "2 <nil>"
      ]
     },
     "execution_count": 116,
     "metadata": {},
     "output_type": "execute_result"
    }
   ],
   "source": [
    "// The returned function keeps track of a count and increments it on each call.\n",
    "func makeCounter() func() int {\n",
    "\tcount := 0\n",
    "\n",
    "\t// This is the closure function that captures the 'count' variable\n",
    "\t// from its surrounding scope.\n",
    "\treturn func() int {\n",
    "\t\tcount++\n",
    "\t\treturn count\n",
    "\t}\n",
    "}\n",
    "\n",
    "counter := makeCounter()\n",
    "fmt.Println(counter()) // 1\n",
    "fmt.Println(counter()) // 2\n",
    "fmt.Println(counter()) // 3\n",
    "\n",
    "fmt.Println(\"Counter 2\")\n",
    "counter2 := makeCounter()\n",
    "fmt.Println(counter2()) // 1 \"count\" variable is different for counter2\n",
    "fmt.Println(counter2()) // 2\n",
    "fmt.Println(counter2()) // 3"
   ]
  },
  {
   "cell_type": "markdown",
   "metadata": {},
   "source": [
    "Implement a fibonacci function that returns a function (a closure) that returns successive fibonacci numbers (0, 1, 1, 2, 3, 5, ...)."
   ]
  },
  {
   "cell_type": "code",
   "execution_count": 117,
   "metadata": {},
   "outputs": [
    {
     "name": "stdout",
     "output_type": "stream",
     "text": [
      "0\n",
      "1\n",
      "1\n",
      "2\n",
      "3\n",
      "5\n",
      "8\n",
      "13\n",
      "21\n",
      "34\n"
     ]
    }
   ],
   "source": [
    "func fibonacci() func() int {\n",
    "\ta, b := 0, 1\n",
    "\treturn func() int {\n",
    "\t\tresult := a\n",
    "\t\ta, b = b, a+b\n",
    "\t\treturn result\n",
    "\t}\n",
    "}\n",
    "\n",
    "f := fibonacci()\n",
    "\tfor i := 0; i < 10; i++ {\n",
    "\t\tfmt.Println(f())\n",
    "\t}"
   ]
  },
  {
   "cell_type": "code",
   "execution_count": null,
   "metadata": {},
   "outputs": [],
   "source": []
  }
 ],
 "metadata": {
  "kernelspec": {
   "display_name": "Go",
   "language": "go",
   "name": "gophernotes"
  },
  "language_info": {
   "codemirror_mode": "",
   "file_extension": ".go",
   "mimetype": "",
   "name": "go",
   "nbconvert_exporter": "",
   "pygments_lexer": "",
   "version": "go1.20.5"
  },
  "orig_nbformat": 4
 },
 "nbformat": 4,
 "nbformat_minor": 2
}
