{
 "cells": [
  {
   "cell_type": "markdown",
   "metadata": {},
   "source": [
    "# Flow Control\n",
    "\n",
    "## for\n",
    "\n",
    "go only has one looping construct: `for`\n",
    "\n",
    "it consists:\n",
    "- the init statement: executed before the first iteration\n",
    "- the condition expression: evaluated before every iteration\n",
    "- the post statement: executed at the end of every iteration\n",
    "\n",
    "The loop will stop iterating once the boolean condition evaluates to false."
   ]
  },
  {
   "cell_type": "code",
   "execution_count": 4,
   "metadata": {},
   "outputs": [
    {
     "name": "stdout",
     "output_type": "stream",
     "text": [
      "0\n",
      "1\n",
      "2\n",
      "3\n",
      "4\n"
     ]
    }
   ],
   "source": [
    "import \"fmt\"\n",
    "\n",
    "for i := 0 ; i < 5; i++ { // notice no parentheses, unlike other languages, adding () will cause error\n",
    "\t\tfmt.Println(i)\n",
    "}"
   ]
  },
  {
   "cell_type": "markdown",
   "metadata": {},
   "source": [
    "init and post statements are optional"
   ]
  },
  {
   "cell_type": "code",
   "execution_count": 8,
   "metadata": {},
   "outputs": [
    {
     "name": "stdout",
     "output_type": "stream",
     "text": [
      "16\n"
     ]
    },
    {
     "data": {
      "text/plain": [
       "3 <nil>"
      ]
     },
     "execution_count": 8,
     "metadata": {},
     "output_type": "execute_result"
    }
   ],
   "source": [
    "sum := 1\n",
    "\tfor ; sum < 10; {\n",
    "\t\tsum += sum\n",
    "\t}\n",
    "\tfmt.Println(sum)"
   ]
  },
  {
   "cell_type": "code",
   "execution_count": 9,
   "metadata": {},
   "outputs": [
    {
     "name": "stdout",
     "output_type": "stream",
     "text": [
      "16\n"
     ]
    },
    {
     "data": {
      "text/plain": [
       "3 <nil>"
      ]
     },
     "execution_count": 9,
     "metadata": {},
     "output_type": "execute_result"
    }
   ],
   "source": [
    "// or simply \n",
    "sum := 1\n",
    "for sum < 10 {\n",
    "\tsum += sum\n",
    "}\n",
    "fmt.Println(sum)\n",
    "// for is also Go's while"
   ]
  },
  {
   "cell_type": "markdown",
   "metadata": {},
   "source": [
    "forever / infinite loop"
   ]
  },
  {
   "cell_type": "code",
   "execution_count": 2,
   "metadata": {},
   "outputs": [],
   "source": [
    "// for {\n",
    "\n",
    "// }"
   ]
  },
  {
   "cell_type": "markdown",
   "metadata": {},
   "source": [
    "## Conditionals\n",
    "### if\n",
    "again no parentheses around the condition, but braces are required"
   ]
  },
  {
   "cell_type": "code",
   "execution_count": 5,
   "metadata": {},
   "outputs": [
    {
     "name": "stdout",
     "output_type": "stream",
     "text": [
      "x is greater than 5\n"
     ]
    }
   ],
   "source": [
    "x := 10\n",
    "\n",
    "if x > 5 {\n",
    "\t\tfmt.Println(\"x is greater than 5\")\n",
    "}"
   ]
  },
  {
   "cell_type": "markdown",
   "metadata": {},
   "source": [
    "If with a short statement\n",
    "- Like for, the if statement can start with a short statement to execute before the condition."
   ]
  },
  {
   "cell_type": "code",
   "execution_count": 6,
   "metadata": {},
   "outputs": [
    {
     "name": "stdout",
     "output_type": "stream",
     "text": [
      "x is greater than 5\n"
     ]
    }
   ],
   "source": [
    "if x:=10; x>5 {\n",
    "    fmt.Println(\"x is greater than 5\")\n",
    "}"
   ]
  },
  {
   "cell_type": "markdown",
   "metadata": {},
   "source": [
    "### if else\n",
    "\n",
    "Variables declared inside an if short statement are also available inside any of the else blocks."
   ]
  },
  {
   "cell_type": "code",
   "execution_count": 7,
   "metadata": {},
   "outputs": [
    {
     "name": "stdout",
     "output_type": "stream",
     "text": [
      "x is less than 5\n"
     ]
    }
   ],
   "source": [
    "if x:=3; x>5 {\n",
    "    fmt.Println(\"x is greater than 5\")\n",
    "} else {\n",
    "    fmt.Println(\"x is less than 5\")\n",
    "}"
   ]
  },
  {
   "cell_type": "markdown",
   "metadata": {},
   "source": [
    "### switch\n",
    "A switch statement is a shorter way to write a sequence of if - else statements. It runs the first case whose value is equal to the condition expression.\n",
    "\n",
    "Go's switch is like the one in C, C++, Java, JavaScript, and PHP, except that Go only runs the selected case, not all the cases that follow. In effect, the break statement that is needed at the end of each case in those languages is provided automatically in Go.\n",
    "\n",
    " Another important difference is that Go's switch cases need not be constants, and the values involved need not be integers. \n",
    " \n",
    " i.e Unlike other languages where switch cases typically require constant expressions and integer values, Go allows non-constant cases and values of any type. This means you can use variables, function calls, or even custom data types as switch cases in Go."
   ]
  },
  {
   "cell_type": "code",
   "execution_count": 9,
   "metadata": {},
   "outputs": [
    {
     "name": "stdout",
     "output_type": "stream",
     "text": [
      "Go runs on OS X.\n"
     ]
    }
   ],
   "source": [
    "import \"runtime\"\n",
    "\n",
    "fmt.Print(\"Go runs on \")\n",
    "\tswitch os := runtime.GOOS; os { // short statement before condition\n",
    "\tcase \"darwin\":\n",
    "\t\tfmt.Println(\"OS X.\")\n",
    "\tcase \"linux\":\n",
    "\t\tfmt.Println(\"Linux.\")\n",
    "\tdefault:\n",
    "\t\tfmt.Printf(\"%s.\\n\", os)\n",
    "\t}"
   ]
  },
  {
   "cell_type": "markdown",
   "metadata": {},
   "source": [
    "Switch cases evaluate cases from top to bottom, stopping when a case succeeds.\n",
    "```\n",
    "switch i {\n",
    "case 0:\n",
    "case f():\n",
    "}\n",
    " ```\n",
    "does not call f if i==0."
   ]
  },
  {
   "cell_type": "markdown",
   "metadata": {},
   "source": [
    "Switch with no condition\n",
    "\n",
    "- Switch without a condition is the same as switch true.\n",
    "- This construct can be a clean way to write long if-then-else chains."
   ]
  },
  {
   "cell_type": "code",
   "execution_count": 11,
   "metadata": {},
   "outputs": [
    {
     "name": "stdout",
     "output_type": "stream",
     "text": [
      "Good afternoon.\n"
     ]
    }
   ],
   "source": [
    "import \"time\"\n",
    "\n",
    "t := time.Now()\n",
    "\tswitch { // no condition\n",
    "\tcase t.Hour() < 12:\n",
    "\t\tfmt.Println(\"Good morning!\")\n",
    "\tcase t.Hour() < 17:\n",
    "\t\tfmt.Println(\"Good afternoon.\")\n",
    "\tdefault:\n",
    "\t\tfmt.Println(\"Good evening.\")\n",
    "\t}"
   ]
  },
  {
   "cell_type": "markdown",
   "metadata": {},
   "source": [
    "### Defer\n",
    "\n",
    "- A defer statement defers the execution of a function until the surrounding function returns.\n",
    "- The deferred call's arguments are evaluated immediately, but the function call is not executed until the surrounding function returns.\n",
    "- Defer is often used when resources need to be freed in some way. For example, when we open a file, we need to make sure to close it later."
   ]
  },
  {
   "cell_type": "code",
   "execution_count": 14,
   "metadata": {},
   "outputs": [
    {
     "name": "stdout",
     "output_type": "stream",
     "text": [
      "hello\n",
      "world\n"
     ]
    }
   ],
   "source": [
    "func test(){\n",
    "defer fmt.Println(\"world\")\n",
    "fmt.Println(\"hello\")\n",
    "}\n",
    "test()\n",
    "// hello\n",
    "// world"
   ]
  },
  {
   "cell_type": "markdown",
   "metadata": {},
   "source": [
    "Stacking defers\n",
    "- Deferred function calls are pushed onto a stack. When a function returns, its deferred calls are executed in last-in-first-out order."
   ]
  },
  {
   "cell_type": "code",
   "execution_count": 17,
   "metadata": {},
   "outputs": [
    {
     "name": "stdout",
     "output_type": "stream",
     "text": [
      "hello\n",
      "hmm\n",
      "new\n",
      "world\n"
     ]
    }
   ],
   "source": [
    "func test(){\n",
    "defer fmt.Println(\"world\")\n",
    "{\n",
    "defer fmt.Println(\"new\") // defer is LIFO\n",
    "}\n",
    "defer fmt.Println(\"hmm\") \n",
    "fmt.Println(\"hello\")\n",
    "}\n",
    "test()\n",
    "\n",
    "// hello\n",
    "// hmm\n",
    "// new\n",
    "// world"
   ]
  },
  {
   "cell_type": "code",
   "execution_count": 19,
   "metadata": {},
   "outputs": [
    {
     "name": "stdout",
     "output_type": "stream",
     "text": [
      "9\n",
      "8\n",
      "7\n",
      "6\n",
      "5\n",
      "4\n",
      "3\n",
      "2\n",
      "1\n",
      "0\n"
     ]
    }
   ],
   "source": [
    "for i := 0; i < 10; i++ {\n",
    "\tdefer fmt.Println(i)\n",
    "} // 9 8 7 ...."
   ]
  },
  {
   "cell_type": "code",
   "execution_count": null,
   "metadata": {},
   "outputs": [],
   "source": []
  }
 ],
 "metadata": {
  "kernelspec": {
   "display_name": "Go",
   "language": "go",
   "name": "gophernotes"
  },
  "language_info": {
   "codemirror_mode": "",
   "file_extension": ".go",
   "mimetype": "",
   "name": "go",
   "nbconvert_exporter": "",
   "pygments_lexer": "",
   "version": "go1.20.5"
  },
  "orig_nbformat": 4
 },
 "nbformat": 4,
 "nbformat_minor": 2
}
