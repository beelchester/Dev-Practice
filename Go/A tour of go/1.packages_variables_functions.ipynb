{
 "cells": [
  {
   "cell_type": "markdown",
   "metadata": {},
   "source": [
    "# Packages, Variables, and Functions\n",
    "\n",
    "## Packages\n",
    "\n",
    "- Every go program  is made of packages\n",
    "- It starts running in the package main\n",
    "- By convention the package name is the same as the last element of the import path, like here in math/rand comprises files that begin with the statement `package rand`.\n"
   ]
  },
  {
   "cell_type": "code",
   "execution_count": 38,
   "metadata": {},
   "outputs": [
    {
     "data": {
      "text/plain": [
       "7"
      ]
     },
     "execution_count": 38,
     "metadata": {},
     "output_type": "execute_result"
    }
   ],
   "source": [
    "package main\n",
    "\n",
    "// import \"fmt\" // importing the fmt package\n",
    "import (\n",
    "\t\"fmt\"\n",
    "\t\"math/rand\"\n",
    ") // importing multiple packages, fmt and rand\n",
    "\n",
    "rand.Intn(10) // calling a function from the rand package\n",
    "// Intn is a function that returns a random integer n, 0 <= n < 10"
   ]
  },
  {
   "cell_type": "markdown",
   "metadata": {},
   "source": [
    "- Exported names from any package always start with a capital letter.\n",
    "- And small letters are not exported.\n",
    "- similar to public and private in other languages."
   ]
  },
  {
   "cell_type": "code",
   "execution_count": 39,
   "metadata": {},
   "outputs": [
    {
     "name": "stderr",
     "output_type": "stream",
     "text": [
      "3.141592653589793"
     ]
    }
   ],
   "source": [
    "import \"math\"\n",
    "\n",
    "print(math.Pi) // Pi is exported"
   ]
  },
  {
   "cell_type": "markdown",
   "metadata": {},
   "source": [
    "## Functions\n",
    "\n",
    "- type after variable name"
   ]
  },
  {
   "cell_type": "code",
   "execution_count": 40,
   "metadata": {},
   "outputs": [
    {
     "data": {
      "text/plain": [
       "55"
      ]
     },
     "execution_count": 40,
     "metadata": {},
     "output_type": "execute_result"
    }
   ],
   "source": [
    "func add (x int, y int ) int {\n",
    "    return x + y \n",
    "}\n",
    "add(42, 13)"
   ]
  },
  {
   "cell_type": "markdown",
   "metadata": {},
   "source": [
    "- If two or more variables same type, we can write it only once"
   ]
  },
  {
   "cell_type": "code",
   "execution_count": 41,
   "metadata": {},
   "outputs": [
    {
     "data": {
      "text/plain": [
       "55"
      ]
     },
     "execution_count": 41,
     "metadata": {},
     "output_type": "execute_result"
    }
   ],
   "source": [
    "func add (x , y int ) int {\n",
    "    return x + y \n",
    "}\n",
    "add(42, 13)"
   ]
  },
  {
   "cell_type": "markdown",
   "metadata": {},
   "source": [
    "- function can return multiple results "
   ]
  },
  {
   "cell_type": "code",
   "execution_count": 42,
   "metadata": {},
   "outputs": [
    {
     "data": {
      "text/plain": [
       "2 4"
      ]
     },
     "execution_count": 42,
     "metadata": {},
     "output_type": "execute_result"
    }
   ],
   "source": [
    "func swap (x,y int) (int,int){\n",
    "\treturn y,x\n",
    "}\n",
    "swap(4,2)"
   ]
  },
  {
   "cell_type": "markdown",
   "metadata": {},
   "source": [
    "Naked return / Named return values\n",
    "- we can mention the variables to be returned in the function defination itself, without writing it in return statement\n",
    "- note : Naked return statements should be used only in short functions, as with the example shown here. They can harm readability in longer functions."
   ]
  },
  {
   "cell_type": "code",
   "execution_count": 43,
   "metadata": {},
   "outputs": [
    {
     "data": {
      "text/plain": [
       "0 9"
      ]
     },
     "execution_count": 43,
     "metadata": {},
     "output_type": "execute_result"
    }
   ],
   "source": [
    "func naked(x int) (x int, y int){\n",
    "\ty := 9\n",
    "\treturn\n",
    "}\n",
    "naked(5) // returns 0 9\n",
    "// this is unexpected, not the behavior of naked return so dont use it like this"
   ]
  },
  {
   "cell_type": "code",
   "execution_count": 44,
   "metadata": {},
   "outputs": [
    {
     "data": {
      "text/plain": [
       "9 12"
      ]
     },
     "execution_count": 44,
     "metadata": {},
     "output_type": "execute_result"
    }
   ],
   "source": [
    "func naked(x int) (y int, z int){\n",
    "\ty := 9\n",
    "\tz := 12\n",
    "\treturn\n",
    "}\n",
    "naked(5) // returns 9 12"
   ]
  },
  {
   "cell_type": "markdown",
   "metadata": {},
   "source": [
    "## Variables\n",
    "A var statement can be at package or function level. i.e inside main function or outside"
   ]
  },
  {
   "cell_type": "code",
   "execution_count": 45,
   "metadata": {},
   "outputs": [],
   "source": [
    "var number int // variable declaration\n",
    "var c, python, java bool // multiple variable declaration\n",
    "\n",
    "var num int = 5 // variable declaration with initialization\n",
    "\n",
    "score := 100 // short variable declaration, only inside a function, type is inferred"
   ]
  },
  {
   "cell_type": "markdown",
   "metadata": {},
   "source": [
    "### Types of variables\n",
    "bool\n",
    "\n",
    "string\n",
    "\n",
    "int  int8  int16  int32  int64 \n",
    "\n",
    "uint uint8 uint16 uint32 uint64 uintptr\n",
    "\n",
    "(int and unint are either 32 or 64 bits depending on the platform)\n",
    "\n",
    "byte // alias for uint8\n",
    "\n",
    "rune // alias for int32\n",
    "     // represents a Unicode code point\n",
    "\n",
    "float32 float64\n",
    "\n",
    "complex64 complex128"
   ]
  },
  {
   "cell_type": "markdown",
   "metadata": {},
   "source": [
    "var can also be factored in a block, like import"
   ]
  },
  {
   "cell_type": "code",
   "execution_count": 46,
   "metadata": {},
   "outputs": [
    {
     "name": "stdout",
     "output_type": "stream",
     "text": [
      "Type: bool Value: false\n",
      "Type: uint64 Value: 18446744073709551615\n",
      "Type: complex128 Value: (2+3i)\n"
     ]
    },
    {
     "data": {
      "text/plain": [
       "31 <nil>"
      ]
     },
     "execution_count": 46,
     "metadata": {},
     "output_type": "execute_result"
    }
   ],
   "source": [
    "import \"math/cmplx\"\n",
    "\n",
    "var (\n",
    "\tToBe   bool       = false\n",
    "\tMaxInt uint64     = 1<<64 - 1\n",
    "\tz      complex128 = cmplx.Sqrt(-5 + 12i)\n",
    ")\n",
    "\n",
    "fmt.Printf(\"Type: %T Value: %v\\n\", ToBe, ToBe)\n",
    "fmt.Printf(\"Type: %T Value: %v\\n\", MaxInt, MaxInt)\n",
    "fmt.Printf(\"Type: %T Value: %v\\n\", z, z)"
   ]
  },
  {
   "cell_type": "markdown",
   "metadata": {},
   "source": [
    "Zero values\n",
    "\n",
    "- variables without initial values are given zero values\n",
    "- 0 for numeric types,\n",
    "false for the boolean type, and\n",
    "\"\" (the empty string) for strings."
   ]
  },
  {
   "cell_type": "code",
   "execution_count": 47,
   "metadata": {},
   "outputs": [
    {
     "name": "stdout",
     "output_type": "stream",
     "text": [
      "0 false "
     ]
    },
    {
     "data": {
      "text/plain": [
       "8 <nil>"
      ]
     },
     "execution_count": 47,
     "metadata": {},
     "output_type": "execute_result"
    }
   ],
   "source": [
    "var x int\n",
    "var y bool\n",
    "var z string\n",
    "\n",
    "fmt.Printf(\"%v %v %v\", x, y, z) // 0 false \"\""
   ]
  },
  {
   "cell_type": "markdown",
   "metadata": {},
   "source": [
    "Type conversions\n",
    "\n",
    "- The expression T(v) converts the value v to the type T."
   ]
  },
  {
   "cell_type": "code",
   "execution_count": 48,
   "metadata": {},
   "outputs": [
    {
     "name": "stdout",
     "output_type": "stream",
     "text": [
      "int 42 float64 42 uint 42"
     ]
    },
    {
     "data": {
      "text/plain": [
       "25 <nil>"
      ]
     },
     "execution_count": 48,
     "metadata": {},
     "output_type": "execute_result"
    }
   ],
   "source": [
    "i := 42\n",
    "f := float64(i)\n",
    "u := uint(f)\n",
    "\n",
    "fmt.Printf(\"%T %v %T %v %T %v\", i, i, f, f, u, u) // int 42 float64 42 uint 42\n",
    "// T prints the type, v prints the value"
   ]
  },
  {
   "cell_type": "code",
   "execution_count": 49,
   "metadata": {},
   "outputs": [
    {
     "data": {
      "text/plain": [
       "19"
      ]
     },
     "execution_count": 49,
     "metadata": {},
     "output_type": "execute_result"
    }
   ],
   "source": [
    "// unlike in C, in Go assignment between items of different type requires an explicit conversion\n",
    "\n",
    "var x int = 19\n",
    "var xfloat float32 \n",
    "\n",
    "// explicit type conversion\n",
    "xfloat = float32(x) \n",
    "// vs in C implicit type conversion\n",
    "// xfloat = x\n",
    "\n",
    "xfloat"
   ]
  },
  {
   "cell_type": "markdown",
   "metadata": {},
   "source": [
    "type inference, type is inferred from the right hand side by the compiler"
   ]
  },
  {
   "cell_type": "code",
   "execution_count": 36,
   "metadata": {},
   "outputs": [],
   "source": [
    "// the right side can be already typed\n",
    "var i int\n",
    "j := i // j is an int\n",
    "\n",
    "// or untyped\n",
    "i := 42           // int\n",
    "f := 3.142        // float64\n",
    "g := 0.867 + 0.5i // complex128\n"
   ]
  },
  {
   "cell_type": "markdown",
   "metadata": {},
   "source": [
    "## Constants\n",
    "\n",
    "- Constants are declared like variables, but with const keyword\n",
    "- they cannot be declared using := syntax\n",
    "- they can be character, string, boolean, or numeric values.\n",
    "- they are generally declared at package level\n",
    "- Constants are useful for defining values that should not be modified, like mathematical constants, configuration settings, etc.\n",
    "- They cannot be reassigned unlike variables\n"
   ]
  },
  {
   "cell_type": "code",
   "execution_count": 51,
   "metadata": {},
   "outputs": [
    {
     "ename": "ERROR",
     "evalue": "cannot assign to a const: pi <untyped.Lit>",
     "output_type": "error",
     "traceback": [
      "cannot assign to a const: pi <untyped.Lit>"
     ]
    }
   ],
   "source": [
    "const pi = 3.14159    // Declaration and assignment of a constant\n",
    "const daysInWeek = 7  // Declaration and assignment of another constant\n",
    "\n",
    "// Constants cannot be reassigned\n",
    "pi = 3.14   // This line would cause a compilation error"
   ]
  },
  {
   "cell_type": "markdown",
   "metadata": {},
   "source": [
    "Numeric Constants\n",
    "\n",
    "- Numeric constants are high-precision values.\n",
    "- An untyped constant takes the type needed by its context.\n",
    "- int can store at maximum a 64-bit integer, and sometimes less."
   ]
  },
  {
   "cell_type": "code",
   "execution_count": 65,
   "metadata": {},
   "outputs": [
    {
     "name": "stdout",
     "output_type": "stream",
     "text": [
      "2\n",
      "0.2\n",
      "0\n",
      "21\n"
     ]
    },
    {
     "data": {
      "text/plain": [
       "3 <nil>"
      ]
     },
     "execution_count": 65,
     "metadata": {},
     "output_type": "execute_result"
    }
   ],
   "source": [
    "const (\n",
    "\t// Create a huge number by shifting a 1 bit left 100 places.\n",
    "\t// In other words, the binary number that is 1 followed by 100 zeroes.\n",
    "\tBig = 1 << 100 \n",
    "\t// Shift it right again 99 places, so we end up with 1<<1, or 2.\n",
    "\tSmall = Big >> 99 \n",
    ")\n",
    "\n",
    "func needInt(x int) int { return x*10 + 1 } \n",
    "func needFloat(x float64) float64 {\n",
    "\treturn x * 0.1\n",
    "}\n",
    "\n",
    "\tfmt.Println(Small)\n",
    "\tfmt.Println(needFloat(Small))\n",
    "\tfmt.Println(needFloat(Big))\n",
    "\tfmt.Println(needInt(Small)) // works\n",
    "\t// fmt.Println(needInt(Big)) // overflows int because Big is too big for int"
   ]
  },
  {
   "cell_type": "code",
   "execution_count": null,
   "metadata": {},
   "outputs": [],
   "source": []
  }
 ],
 "metadata": {
  "kernelspec": {
   "display_name": "Go",
   "language": "go",
   "name": "gophernotes"
  },
  "language_info": {
   "codemirror_mode": "",
   "file_extension": ".go",
   "mimetype": "",
   "name": "go",
   "nbconvert_exporter": "",
   "pygments_lexer": "",
   "version": "go1.20.5"
  },
  "orig_nbformat": 4
 },
 "nbformat": 4,
 "nbformat_minor": 2
}
